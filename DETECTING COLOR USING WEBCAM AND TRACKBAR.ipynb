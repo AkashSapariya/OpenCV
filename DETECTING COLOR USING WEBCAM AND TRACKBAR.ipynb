{
 "cells": [
  {
   "cell_type": "code",
   "execution_count": 3,
   "id": "3170a554",
   "metadata": {},
   "outputs": [],
   "source": [
    "import cv2\n",
    "import numpy as np"
   ]
  },
  {
   "cell_type": "code",
   "execution_count": 4,
   "id": "3aac1f4e",
   "metadata": {},
   "outputs": [],
   "source": [
    "cap = cv2.VideoCapture(0)\n",
    "\n",
    "def nothing(x):\n",
    "    pass\n",
    "\n",
    "cv2.namedWindow(\"Color Adjustments\")\n",
    "cv2.createTrackbar(\"Lower_H\",\"Color Adjustments\", 0, 255 , nothing)\n",
    "cv2.createTrackbar(\"Lower_S\",\"Color Adjustments\", 0, 255 , nothing)\n",
    "cv2.createTrackbar(\"Lower_V\",\"Color Adjustments\", 0, 255 , nothing)\n",
    "cv2.createTrackbar(\"Upper_H\",\"Color Adjustments\", 255, 255 , nothing)\n",
    "cv2.createTrackbar(\"Upper_S\",\"Color Adjustments\", 255, 255 , nothing)\n",
    "cv2.createTrackbar(\"Upper_V\",\"Color Adjustments\", 255, 255 , nothing)\n",
    "\n",
    "while True:\n",
    "    _,frame = cap.read()\n",
    "    frame = cv2.resize(frame,(600,600))\n",
    "    \n",
    "    hsv = cv2.cvtColor(frame, cv2.COLOR_BGR2HSV)\n",
    "    \n",
    "    l_h = cv2.getTrackbarPos(\"Lower_H\",\"Color Adjustments\")\n",
    "    l_s = cv2.getTrackbarPos(\"Lower_S\",\"Color Adjustments\")\n",
    "    l_v = cv2.getTrackbarPos(\"Lower_V\",\"Color Adjustments\")\n",
    "    u_h = cv2.getTrackbarPos(\"Upper_H\",\"Color Adjustments\")\n",
    "    u_s = cv2.getTrackbarPos(\"Upper_S\",\"Color Adjustments\")\n",
    "    u_v = cv2.getTrackbarPos(\"Upper_V\",\"Color Adjustments\")\n",
    "    \n",
    "    lower_bound = np.array([l_h,l_s,l_v])\n",
    "    upper_bound = np.array([u_h,u_s,u_v])\n",
    "    \n",
    "    #creating mask\n",
    "    \n",
    "    mask = cv2.inRange(hsv, lower_bound, upper_bound)\n",
    "    \n",
    "    # filter mask with image\n",
    "    \n",
    "    res = cv2.bitwise_and(frame, frame, mask = mask)\n",
    "    \n",
    "    cv2.imshow(\"Frame\", frame)\n",
    "    cv2.imshow(\"Mask\", mask)\n",
    "    cv2.imshow(\"Res\", res)\n",
    "    \n",
    "    if cv2.waitKey(1) == 27:\n",
    "        break\n",
    "capt.release()\n",
    "cv2.destroyAllWindows()"
   ]
  },
  {
   "cell_type": "code",
   "execution_count": null,
   "id": "8cb90987",
   "metadata": {},
   "outputs": [],
   "source": []
  }
 ],
 "metadata": {
  "kernelspec": {
   "display_name": "Python 3 (ipykernel)",
   "language": "python",
   "name": "python3"
  },
  "language_info": {
   "codemirror_mode": {
    "name": "ipython",
    "version": 3
   },
   "file_extension": ".py",
   "mimetype": "text/x-python",
   "name": "python",
   "nbconvert_exporter": "python",
   "pygments_lexer": "ipython3",
   "version": "3.9.12"
  }
 },
 "nbformat": 4,
 "nbformat_minor": 5
}
