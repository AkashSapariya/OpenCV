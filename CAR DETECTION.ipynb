{
 "cells": [
  {
   "cell_type": "markdown",
   "id": "42ca3812",
   "metadata": {},
   "source": [
    "VEHICLE DETECTION"
   ]
  },
  {
   "cell_type": "code",
   "execution_count": 1,
   "id": "cfce0885",
   "metadata": {},
   "outputs": [],
   "source": [
    "# importing the required libraries\n",
    "import cv2\n",
    "import numpy as np\n",
    "import time"
   ]
  },
  {
   "cell_type": "code",
   "execution_count": 2,
   "id": "a1cec082",
   "metadata": {},
   "outputs": [],
   "source": [
    "# Create our car classifier\n",
    "\n",
    "car_classifier = cv2.CascadeClassifier('haarcascade_car.xml')"
   ]
  },
  {
   "cell_type": "code",
   "execution_count": 3,
   "id": "8e6cfdc3",
   "metadata": {},
   "outputs": [],
   "source": [
    "# Initiate video capture from the file\n",
    "\n",
    "cap = cv2.VideoCapture('D:/Data Science/youtube/Computer-Vision-Tutorial-master/image_examples/cars.avi')"
   ]
  },
  {
   "cell_type": "code",
   "execution_count": 4,
   "id": "3a65fb21",
   "metadata": {},
   "outputs": [],
   "source": [
    "# Loop once video is successfuly loaded\n",
    "while cap.isOpened():\n",
    "    time.sleep(0.05)\n",
    "    #Read first frame\n",
    "    ret, frame = cap.read()\n",
    "    gray = cv2.cvtColor(frame, cv2.COLOR_BGR2GRAY)\n",
    "    # Pass frame to our car classifier\n",
    "    cars = car_classifier.detectMultiScale(gray, 1.4,2)\n",
    "    \n",
    "    #Extract bounding boxes for any bodies identified\n",
    "    for(x,y,w,h) in cars:\n",
    "        cv2.rectangle(frame, (x,y),(x+w,y+h),(0,255,255),2)\n",
    "        cv2.imshow('Cars',frame)\n",
    "    if cv2.waitKey(1) == 13:  #13 is the Enter Key\n",
    "        break\n",
    "cap.release()\n",
    "cv2.destroyAllWindows()"
   ]
  }
 ],
 "metadata": {
  "kernelspec": {
   "display_name": "Python 3 (ipykernel)",
   "language": "python",
   "name": "python3"
  },
  "language_info": {
   "codemirror_mode": {
    "name": "ipython",
    "version": 3
   },
   "file_extension": ".py",
   "mimetype": "text/x-python",
   "name": "python",
   "nbconvert_exporter": "python",
   "pygments_lexer": "ipython3",
   "version": "3.9.12"
  }
 },
 "nbformat": 4,
 "nbformat_minor": 5
}
