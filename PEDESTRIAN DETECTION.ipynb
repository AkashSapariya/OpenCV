{
 "cells": [
  {
   "cell_type": "markdown",
   "id": "994490a8",
   "metadata": {},
   "source": [
    "PEDESTRAIN DETECTION"
   ]
  },
  {
   "cell_type": "code",
   "execution_count": 5,
   "id": "2c41521e",
   "metadata": {},
   "outputs": [],
   "source": [
    "# importing the libraries\n",
    "# !pip install opencv-python\n",
    "import cv2\n",
    "import numpy as np"
   ]
  },
  {
   "cell_type": "code",
   "execution_count": 6,
   "id": "1dc2a556",
   "metadata": {},
   "outputs": [],
   "source": [
    "# creating our body classifier\n",
    "body_classifier = cv2.CascadeClassifier('haarcascade_fullbody.xml')"
   ]
  },
  {
   "cell_type": "code",
   "execution_count": 7,
   "id": "1c517352",
   "metadata": {},
   "outputs": [],
   "source": [
    "# initiate video capture for video file\n",
    "cap = cv2.VideoCapture('D:/Data Science/youtube/Computer-Vision-Tutorial-master/image_examples/walking.avi')"
   ]
  },
  {
   "cell_type": "code",
   "execution_count": 8,
   "id": "319b1ba3",
   "metadata": {},
   "outputs": [],
   "source": [
    "# loop once video is successfully loaded\n",
    "while cap.isOpened():\n",
    "    \n",
    "    # read first frame\n",
    "    ret,frame = cap.read()\n",
    "    # frame = cv2.resize(frame, None, fx=0.5, interpolation = cv2.INTER_LINEAR)\n",
    "    \n",
    "    gray = cv2.cvtColor(frame, cv2.COLOR_BGR2GRAY)\n",
    "    \n",
    "    # pass frame to our body classifier\n",
    "    bodies = body_classifier.detectMultiScale(gray, 1.2,3)\n",
    "    \n",
    "    # Extract bounding boxes for any bodies identified\n",
    "    for(x,y,w,h) in bodies:\n",
    "        cv2.rectangle(frame, (x,y), (x+w,y+h),(0,255,255),2)\n",
    "        cv2.imshow('Pedestrain',frame)\n",
    "    if cv2.waitKey(1) == 13:   #13 is the Enter key\n",
    "        break\n",
    "cap.release()\n",
    "cv2.destroyAllWindows()\n",
    "    \n",
    "    \n"
   ]
  }
 ],
 "metadata": {
  "kernelspec": {
   "display_name": "Python 3 (ipykernel)",
   "language": "python",
   "name": "python3"
  },
  "language_info": {
   "codemirror_mode": {
    "name": "ipython",
    "version": 3
   },
   "file_extension": ".py",
   "mimetype": "text/x-python",
   "name": "python",
   "nbconvert_exporter": "python",
   "pygments_lexer": "ipython3",
   "version": "3.9.12"
  }
 },
 "nbformat": 4,
 "nbformat_minor": 5
}
